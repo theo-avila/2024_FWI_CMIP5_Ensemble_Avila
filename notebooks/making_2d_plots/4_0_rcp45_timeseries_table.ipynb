{
 "cells": [
  {
   "cell_type": "code",
   "execution_count": 1,
   "id": "3a97cfaf-21c2-43eb-9c23-853602089e95",
   "metadata": {},
   "outputs": [],
   "source": [
    "import matplotlib.pyplot as plt\n",
    "import numpy as np\n",
    "from numpy import ma\n",
    "import xarray as xr\n",
    "import geopandas as gpd\n",
    "import pandas as pd\n",
    "# requires cartopy to be installed\n",
    "import cartopy.feature as cfeature\n",
    "import cartopy.io.shapereader as shpreader\n",
    "\n",
    "import cartopy.crs as ccrs # for projection\n",
    "import cartopy.feature as cfeature # for map features\n",
    "from cartopy.util import add_cyclic_point\n",
    "from matplotlib.axes import Axes\n",
    "from cartopy.mpl.geoaxes import GeoAxes\n",
    "#from matplotlib.colors import TwoSlopeNorm\n",
    "from cartopy.mpl.gridliner import LONGITUDE_FORMATTER, LATITUDE_FORMATTER\n",
    "import xesmf as xe \n",
    "import sys\n",
    "import os\n",
    "import dask"
   ]
  },
  {
   "cell_type": "code",
   "execution_count": 30,
   "id": "1079dc09-3ba3-4865-89b0-39b5515e2e5e",
   "metadata": {},
   "outputs": [],
   "source": [
    "models = [\"BNU-ESM\", \"CNRM-CM5\", \"CSIRO-Mk3-6-0\", \"CanESM2\", \"GFDL-ESM2G\", \"GFDL-ESM2M\", \"HadGEM2-CC365\", \"HadGEM2-ES365\", \"IPSL-CM5A-LR\",\n",
    "         \"IPSL-CM5A-MR\", \"IPSL-CM5B-LR\", \"MIROC-ESM-CHEM\", \"MIROC-ESM\", \"MIROC5\", \"bcc-csm1-1-m\", \"MRI-CGCM3\", \"bcc-csm1-1\", \"inmcm4\"]\n",
    "\n"
   ]
  },
  {
   "cell_type": "code",
   "execution_count": 31,
   "id": "186fca8e-d238-4dd1-ada8-534edd8cd08b",
   "metadata": {},
   "outputs": [
    {
     "data": {
      "text/plain": [
       "18"
      ]
     },
     "execution_count": 31,
     "metadata": {},
     "output_type": "execute_result"
    }
   ],
   "source": [
    "len(models)"
   ]
  },
  {
   "cell_type": "code",
   "execution_count": 32,
   "id": "392a6f25-ce5d-419a-887a-8e518f84ff62",
   "metadata": {},
   "outputs": [
    {
     "name": "stdout",
     "output_type": "stream",
     "text": [
      "BNU-ESM\n",
      "CNRM-CM5\n",
      "CSIRO-Mk3-6-0\n",
      "CanESM2\n",
      "GFDL-ESM2G\n",
      "GFDL-ESM2M\n",
      "HadGEM2-CC365\n",
      "HadGEM2-ES365\n",
      "IPSL-CM5A-LR\n",
      "IPSL-CM5A-MR\n",
      "IPSL-CM5B-LR\n",
      "MIROC-ESM-CHEM\n",
      "MIROC-ESM\n",
      "MIROC5\n",
      "bcc-csm1-1-m\n",
      "MRI-CGCM3\n",
      "bcc-csm1-1\n",
      "inmcm4\n"
     ]
    }
   ],
   "source": [
    "_2030_array = []\n",
    "_2060_array = []\n",
    "\n",
    "for model in models:\n",
    "    filein = \"/data/keeling/a/ctavila2/7_bootstrapping/models_yearly_points/macav2metdata_fwi_\" + model + \"_r1i1p1_rcp4.5_tmaxrhmin_1979_2060_yearly_points_norcal.nc\"\n",
    "    current_model = xr.open_dataset(filein)\n",
    "    print(model)\n",
    "    current_model_2030 = current_model.sel(year=slice('2030', '2030')).FWI\n",
    "    current_model_2060 = current_model.sel(year=slice('2060', '2060')).FWI\n",
    "    _2030_array.append(current_model_2030)\n",
    "    _2060_array.append(current_model_2060)\n",
    "    \n",
    "\n"
   ]
  },
  {
   "cell_type": "code",
   "execution_count": 33,
   "id": "34641d57-bc89-4a61-a45c-131285c390e3",
   "metadata": {},
   "outputs": [
    {
     "name": "stdout",
     "output_type": "stream",
     "text": [
      "47.747192\n",
      "2.938484\n"
     ]
    }
   ],
   "source": [
    "print(np.mean(_2030_array))\n",
    "print(np.std(_2030_array))"
   ]
  },
  {
   "cell_type": "code",
   "execution_count": null,
   "id": "9024f9c4-7e09-4af3-87fa-bdbae65f98b4",
   "metadata": {},
   "outputs": [],
   "source": []
  },
  {
   "cell_type": "code",
   "execution_count": 34,
   "id": "18aaba24-1308-4c78-9a21-91ba6fc946e7",
   "metadata": {},
   "outputs": [
    {
     "name": "stdout",
     "output_type": "stream",
     "text": [
      "45.975174\n",
      "5.3971386\n"
     ]
    }
   ],
   "source": [
    "print(np.mean(_2060_array))\n",
    "print(np.std(_2060_array))"
   ]
  },
  {
   "cell_type": "code",
   "execution_count": 94,
   "id": "c706fa5a-a552-484f-a282-7f333214b107",
   "metadata": {},
   "outputs": [],
   "source": [
    "model = \"BNU-ESM\"\n",
    "filein = \"/data/keeling/a/ctavila2/7_bootstrapping/models_yearly_points/macav2metdata_fwi_\" + model + \"_r1i1p1_rcp4.5_tmaxrhmin_1979_2022_CONUS_yearly_points_norcal.nc\"\n",
    "current_model = xr.open_dataset(filein)"
   ]
  },
  {
   "cell_type": "code",
   "execution_count": 95,
   "id": "8619d3fc-e759-4ada-9b1d-94ba9c47c99b",
   "metadata": {},
   "outputs": [],
   "source": [
    "a = current_model.sel(year=slice('2060', '2060')).FWI"
   ]
  },
  {
   "cell_type": "code",
   "execution_count": 96,
   "id": "fe67c544-9d51-42fb-801e-5cf43c75ba17",
   "metadata": {},
   "outputs": [
    {
     "data": {
      "text/plain": [
       "array([42.754196], dtype=float32)"
      ]
     },
     "execution_count": 96,
     "metadata": {},
     "output_type": "execute_result"
    }
   ],
   "source": [
    "a.values"
   ]
  },
  {
   "cell_type": "code",
   "execution_count": null,
   "id": "8ad67a6d-9d5a-40ab-9f68-5229b903368d",
   "metadata": {},
   "outputs": [],
   "source": []
  },
  {
   "cell_type": "code",
   "execution_count": 97,
   "id": "cf7ccbfd-528a-40d2-a190-da949ea6c15a",
   "metadata": {},
   "outputs": [],
   "source": [
    "_2030_array[0] = a.values"
   ]
  },
  {
   "cell_type": "code",
   "execution_count": 98,
   "id": "cd82a923-5869-49fb-886e-0c4e04940990",
   "metadata": {},
   "outputs": [
    {
     "data": {
      "text/plain": [
       "array([42.754196], dtype=float32)"
      ]
     },
     "execution_count": 98,
     "metadata": {},
     "output_type": "execute_result"
    }
   ],
   "source": [
    "_2030_array[0] "
   ]
  },
  {
   "cell_type": "code",
   "execution_count": 99,
   "id": "385eb7bb-c0bd-47c1-bbe0-f994872a2067",
   "metadata": {},
   "outputs": [
    {
     "data": {
      "text/plain": [
       "63.234097"
      ]
     },
     "execution_count": 99,
     "metadata": {},
     "output_type": "execute_result"
    }
   ],
   "source": [
    "np.mean(_2030_array)"
   ]
  },
  {
   "cell_type": "code",
   "execution_count": null,
   "id": "3167673f-2558-434f-a052-1c7dc2fbb243",
   "metadata": {},
   "outputs": [],
   "source": []
  },
  {
   "cell_type": "code",
   "execution_count": null,
   "id": "40db6306-7803-4863-8d35-dcbc1a45b1e0",
   "metadata": {},
   "outputs": [],
   "source": []
  },
  {
   "cell_type": "code",
   "execution_count": null,
   "id": "0e37f6a9-8e22-4c57-9707-ad4195a80c84",
   "metadata": {},
   "outputs": [],
   "source": []
  },
  {
   "cell_type": "code",
   "execution_count": null,
   "id": "e9e592c1-c867-44c2-846e-d047faf41042",
   "metadata": {},
   "outputs": [],
   "source": []
  }
 ],
 "metadata": {
  "kernelspec": {
   "display_name": "Python 3 (ipykernel)",
   "language": "python",
   "name": "python3"
  },
  "language_info": {
   "codemirror_mode": {
    "name": "ipython",
    "version": 3
   },
   "file_extension": ".py",
   "mimetype": "text/x-python",
   "name": "python",
   "nbconvert_exporter": "python",
   "pygments_lexer": "ipython3",
   "version": "3.11.3"
  }
 },
 "nbformat": 4,
 "nbformat_minor": 5
}
