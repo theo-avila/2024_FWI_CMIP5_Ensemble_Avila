{
 "cells": [
  {
   "cell_type": "markdown",
   "id": "cafeadcd-c3dc-4cf5-adb8-45e3697cc7cc",
   "metadata": {},
   "source": [
    "### Imports and Inputs"
   ]
  },
  {
   "cell_type": "code",
   "execution_count": 5,
   "id": "c1bdb610-d459-4221-9828-345f313b9f3c",
   "metadata": {},
   "outputs": [],
   "source": [
    "import matplotlib.pyplot as plt\n",
    "import numpy as np\n",
    "from numpy import ma\n",
    "import xarray as xr\n",
    "import geopandas as gpd\n",
    "import pandas as pd\n",
    "import xesmf as xe \n",
    "\n",
    "# requires cartopy to be installed\n",
    "import cartopy.feature as cfeature\n",
    "import cartopy.io.shapereader as shpreader\n",
    "\n",
    "import cartopy.crs as ccrs # for projection\n",
    "import cartopy.feature as cfeature # for map features\n",
    "from cartopy.util import add_cyclic_point\n",
    "from matplotlib.axes import Axes\n",
    "from cartopy.mpl.geoaxes import GeoAxes\n",
    "#from matplotlib.colors import TwoSlopeNorm\n",
    "from cartopy.mpl.gridliner import LONGITUDE_FORMATTER, LATITUDE_FORMATTER\n",
    "from collections import Counter\n",
    "import sys\n",
    "import os\n",
    "import time\n"
   ]
  },
  {
   "cell_type": "code",
   "execution_count": 6,
   "id": "74a47821-567e-416e-bcaf-005de2e3934d",
   "metadata": {},
   "outputs": [],
   "source": [
    "models = [\"BNU-ESM\", \"CNRM-CM5\", \"CSIRO-Mk3-6-0\", \"CanESM2\", \"GFDL-ESM2G\", \"GFDL-ESM2M\", \"HadGEM2-CC365\", \"HadGEM2-ES365\", \"IPSL-CM5A-LR\",\n",
    "         \"IPSL-CM5A-MR\", \"IPSL-CM5B-LR\", \"MIROC-ESM-CHEM\", \"MIROC-ESM\", \"MIROC5\", \"bcc-csm1-1-m\", \"MRI-CGCM3\", \"bcc-csm1-1\", \"inmcm4\"]"
   ]
  },
  {
   "cell_type": "markdown",
   "id": "65001cef-cc59-45bf-8691-97bfb28ec1af",
   "metadata": {},
   "source": [
    "### Statistical Quantities from pre-processed data"
   ]
  },
  {
   "cell_type": "code",
   "execution_count": 8,
   "id": "265f59b2-3539-4360-afdd-477feb88371e",
   "metadata": {},
   "outputs": [],
   "source": [
    "start_time = time.time()\n",
    "\n",
    "def coarsened_all(models):\n",
    "\n",
    "\n",
    "    trendline_array = []\n",
    "    deviation_array = []\n",
    "    average_array = []\n",
    "    normal_deviation_array = []\n",
    "    for model in models:\n",
    "        \n",
    "        print(time.time() - start_time)           #####################################3#######################################################\n",
    "        filein = \"/data/keeling/a/ctavila2/7_bootstrapping/models_tmaxrhmin_smaller/macav2metdata_fwi_\" + model + \"_r1i1p1_rcp8.5_tmaxrhmin_1979_2022_CONUS_daily_DASK_oregon.nc\"\n",
    "        current_model = xr.open_dataset(filein)\n",
    "    \n",
    "    \n",
    "        spatial_aggregate = current_model.mean(dim=['time'])\n",
    "        yearly_mean = current_model.groupby('time.year').mean(dim='time')\n",
    "    \n",
    "        poly_coeffs = yearly_mean.FWI.polyfit(dim=\"year\", deg=1).rename({\"polyfit_coefficients\":\"FWI\"}) \n",
    "        poly_fits = xr.polyval(coord=yearly_mean[\"year\"], coeffs=poly_coeffs)\n",
    "        trendline = poly_coeffs.sel(degree=1).FWI \n",
    "        trendline_values = trendline * yearly_mean[\"year\"] + poly_coeffs.sel(degree=0).FWI \n",
    "        # this gives me my mx+b value at each point, essentially giving me the predicted value from the linear regression\n",
    "        residuals = yearly_mean.FWI - trendline_values\n",
    "        standard_deviation_residuals = residuals.std(dim='year')\n",
    "        fwi_benchmark = yearly_mean.std(dim='year')\n",
    "        \n",
    "            \n",
    "        deviation_array.append(standard_deviation_residuals)\n",
    "        trendline_array.append(trendline)\n",
    "        average_array.append(spatial_aggregate)\n",
    "        normal_deviation_array.append(fwi_benchmark)\n",
    "        \n",
    "        print(\"iteration \" + model)\n",
    "\n",
    "    return trendline_array, deviation_array, average_array, normal_deviation_array\n",
    "    \n",
    "\n",
    "\n"
   ]
  },
  {
   "cell_type": "code",
   "execution_count": null,
   "id": "3f8d86fb-8276-41c8-b576-acafbc46691c",
   "metadata": {},
   "outputs": [],
   "source": [
    "trendline_array, deviation_array, average_array, normal_deviation_array = coarsened_all(models=models)"
   ]
  },
  {
   "cell_type": "code",
   "execution_count": 11,
   "id": "6df6b9b6-3837-499f-abd9-b7fb7e841d78",
   "metadata": {
    "scrolled": true
   },
   "outputs": [],
   "source": [
    "concatenated_data = xr.concat(trendline_array, dim='array')\n",
    "\n",
    "# Take the mean along the 'array' dimension\n",
    "average_trendline = concatenated_data.mean(dim='array')\n",
    "concatenated_dev_resids = xr.concat(deviation_array, dim='array')\n",
    "rmse = concatenated_dev_resids.mean(dim='array')\n",
    "concatenated_data = xr.concat(average_array, dim='array')\n",
    "\n",
    "# Take the mean along the 'array' dimension\n",
    "average_average = concatenated_data.mean(dim='array')\n",
    "concatenated_data = xr.concat(normal_deviation_array, dim='array')\n",
    "\n",
    "# Take the mean along the 'array' dimension\n",
    "average_normal_deviation = concatenated_data.mean(dim='array')"
   ]
  },
  {
   "cell_type": "markdown",
   "id": "e5f0a7dc-4769-4cbd-89f1-3713430345cd",
   "metadata": {},
   "source": [
    "### Plotting"
   ]
  },
  {
   "cell_type": "code",
   "execution_count": null,
   "id": "c134b53d-81fd-4131-b757-c5b4dce6f242",
   "metadata": {},
   "outputs": [],
   "source": [
    "reader = shpreader.Reader('/data/keeling/a/ctavila2/2_maps/county_shapefile/countyl010g.shp')\n",
    "counties = list(reader.geometries())\n",
    "\n",
    "COUNTIES = cfeature.ShapelyFeature(counties, ccrs.PlateCarree())\n",
    "\n",
    "scale = '110m'\n",
    "states110 = cfeature.NaturalEarthFeature(\n",
    "            category='cultural',\n",
    "            name='admin_1_states_provinces_lines',\n",
    "            scale=scale,\n",
    "            facecolor='none',\n",
    "            edgecolor='r')\n",
    "\n",
    "\n",
    "cmap='coolwarm'\n",
    "\n",
    "fig, ax = plt.subplots(figsize=(8, 8), subplot_kw={'projection': ccrs.PlateCarree()})\n",
    "rmse.plot(ax=ax,cmap=cmap,vmin=0,vmax=10)\n",
    "\n",
    "\n",
    "ax.add_feature(cfeature.NaturalEarthFeature('cultural', 'admin_1_states_provinces_lines', '110m', edgecolor='gray', facecolor='none'))\n",
    "ax.coastlines()\n",
    "ax.add_feature(cfeature.LAKES)\n",
    "ax.add_feature(COUNTIES, linewidth=0.8, alpha=0.5, facecolor='none', edgecolor='black')\n",
    "ax.add_feature(cfeature.BORDERS, linewidth=2, edgecolor='white')\n",
    "\n",
    "\n",
    "plt.title('RCP8.5 Historical Std. Dev. Residuals', fontsize=16)\n",
    "#plt.savefig('/data/keeling/a/ctavila2/7_bootstrapping/final_plots/1_2_CMIP5_RCP85_Ensemble_Standard_Deviation_RESIDS_mxtmp_rhmin_1979_2022')\n"
   ]
  },
  {
   "cell_type": "code",
   "execution_count": null,
   "id": "5b3cd2eb-7df3-45b5-8c02-6d6231a7411b",
   "metadata": {},
   "outputs": [],
   "source": []
  }
 ],
 "metadata": {
  "kernelspec": {
   "display_name": "Python 3 (ipykernel)",
   "language": "python",
   "name": "python3"
  },
  "language_info": {
   "codemirror_mode": {
    "name": "ipython",
    "version": 3
   },
   "file_extension": ".py",
   "mimetype": "text/x-python",
   "name": "python",
   "nbconvert_exporter": "python",
   "pygments_lexer": "ipython3",
   "version": "3.11.3"
  }
 },
 "nbformat": 4,
 "nbformat_minor": 5
}
