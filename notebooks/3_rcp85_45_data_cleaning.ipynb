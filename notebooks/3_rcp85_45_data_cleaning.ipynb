{
 "cells": [
  {
   "cell_type": "markdown",
   "id": "f37b93a7-7d81-40b0-8e9a-ef0c31d7e24c",
   "metadata": {},
   "source": [
    "# SoCal NorCal Model CI to 2090"
   ]
  },
  {
   "cell_type": "code",
   "execution_count": 1,
   "id": "f7250519-0469-4134-8439-c42a8488ca91",
   "metadata": {},
   "outputs": [],
   "source": [
    "import matplotlib.pyplot as plt\n",
    "import numpy as np\n",
    "from numpy import ma\n",
    "import xarray as xr\n",
    "import geopandas as gpd\n",
    "import pandas as pd\n",
    "import dask\n",
    "\n",
    "# requires cartopy to be installed\n",
    "import cartopy.feature as cfeature\n",
    "import cartopy.io.shapereader as shpreader\n",
    "\n",
    "import cartopy.crs as ccrs # for projection\n",
    "import cartopy.feature as cfeature # for map features\n",
    "from cartopy.util import add_cyclic_point\n",
    "from matplotlib.axes import Axes\n",
    "from cartopy.mpl.geoaxes import GeoAxes\n",
    "#from matplotlib.colors import TwoSlopeNorm\n",
    "from cartopy.mpl.gridliner import LONGITUDE_FORMATTER, LATITUDE_FORMATTER\n",
    "from collections import Counter\n",
    "import sys\n",
    "import os\n",
    "import time"
   ]
  },
  {
   "cell_type": "code",
   "execution_count": 4,
   "id": "581e9b84-4f2f-4d74-83df-3931bcb59f82",
   "metadata": {},
   "outputs": [],
   "source": [
    "def process_dataset(file_path, start_day, end_day, lon_max, lon_min, lat_max, lat_min):\n",
    "    \"\"\"Processes a dataset: filters time, applies boundaries, and computes annual means.\"\"\"\n",
    "    ds = xr.open_dataset(file_path)\n",
    "    ds_filtered = ds.sel(time=slice('1979-01-01', '2022-10-31'))\n",
    "    ds_filtered[\"lon\"] = np.where(ds_filtered[\"lon\"] > 180, ds_filtered[\"lon\"] - 360, ds_filtered[\"lon\"])\n",
    "    ds_filtered = ds_filtered.sortby(\"lon\")\n",
    "    bounded_ds = ds_filtered.where(\n",
    "        (ds_filtered.lon >= lon_min) & (ds_filtered.lon <= lon_max) &\n",
    "        (ds_filtered.lat >= lat_min) & (ds_filtered.lat <= lat_max),\n",
    "        drop=True\n",
    "    )\n",
    "    grouped_ds = bounded_ds.groupby('time.year')\n",
    "    selected_ds = grouped_ds.apply(lambda x: x.where(\n",
    "        (x['time.dayofyear'] >= start_day) & (x['time.dayofyear'] <= end_day)\n",
    "    ))\n",
    "    selected_ds = selected_ds.dropna(dim='time', how='all')\n",
    "    return selected_ds.mean(dim=['lon', 'lat'])\n",
    "\n",
    "\n",
    "def process_model(model, start_day, end_day, lon_max, lon_min, lat_max, lat_min):\n",
    "    \"\"\"Processes datasets for a given model.\"\"\"\n",
    "    base_path_H = f\"/data/keeling/a/davidcl2/d/MACA/FWI_RHmin/historical/out/comp/macav2metdata_fwi_{model}_r1i1p1_historical_\"\n",
    "    base_path_85 = f\"/data/keeling/a/davidcl2/d/MACA/FWI_RHmin/rcp85/out/macav2metdata_fwi_{model}_r1i1p1_rcp85_\"\n",
    "    \n",
    "    datasets = []\n",
    "\n",
    "    # Process historical files\n",
    "    for year in range(1975, 2004, 5):\n",
    "        file_path = f\"{base_path_H}{year}_{year + 4}_CONUS_daily.nc\"\n",
    "        datasets.append(process_dataset(file_path, start_day, end_day, lon_max, lon_min, lat_max, lat_min))\n",
    "\n",
    "    # Process 2005 separately\n",
    "    file_path_2005 = f\"{base_path_H}2005_2005_CONUS_daily.nc\"\n",
    "    datasets.append(process_dataset(file_path_2005, start_day, end_day, lon_max, lon_min, lat_max, lat_min))\n",
    "\n",
    "    # Process RCP 8.5 files\n",
    "    for year in range(2006, 2025, 5):\n",
    "        file_path = f\"{base_path_85}{year}_{year + 4}_CONUS_daily.nc\"\n",
    "        datasets.append(process_dataset(file_path, start_day, end_day, lon_max, lon_min, lat_max, lat_min))\n",
    "\n",
    "    # Concatenate datasets and compute the time series mean\n",
    "    concatenated_ds = xr.concat(datasets, dim='time')\n",
    "    time_series = concatenated_ds.mean(dim='time')\n",
    "\n",
    "    output_path = f\"/data/rsriver/a/ctavila2/FWI_cleaned/time_series/{region}_macav2metdata_fwi_{model}_r1i1p1_rcp8.5_tmaxrhmin_1979_2090_timeseries.nc\"\n",
    "    time_series.to_netcdf(output_path)\n",
    "\n",
    "def coarsened_all(models, start_day, end_day, lon_max, lon_min, lat_max, lat_min):\n",
    "    \"\"\"Processes multiple models.\"\"\"\n",
    "    for model in models:\n",
    "        process_model(model, start_day, end_day, lon_max, lon_min, lat_max, lat_min)"
   ]
  },
  {
   "cell_type": "code",
   "execution_count": 6,
   "id": "9707e20d-3db9-43f5-88fb-e67fd87b76c9",
   "metadata": {},
   "outputs": [],
   "source": [
    "models = [\n",
    "    \"BNU-ESM\", \"CNRM-CM5\", \"CSIRO-Mk3-6-0\", \"CanESM2\", \"GFDL-ESM2G\", \"GFDL-ESM2M\", \"HadGEM2-CC365\", \"HadGEM2-ES365\",\n",
    "    \"IPSL-CM5A-LR\", \"IPSL-CM5A-MR\", \"IPSL-CM5B-LR\", \"MIROC-ESM-CHEM\", \"MIROC-ESM\", \"MIROC5\", \"bcc-csm1-1-m\",\n",
    "    \"MRI-CGCM3\", \"bcc-csm1-1\", \"inmcm4\"\n",
    "]\n",
    "start_day=152\n",
    "end_day=304\n",
    "\n",
    "# socal bounds\n",
    "region = 'socal'\n",
    "lon_max = -116.5\n",
    "lon_min = -118.5\n",
    "lat_min = 34\n",
    "lat_max = 36"
   ]
  },
  {
   "cell_type": "code",
   "execution_count": null,
   "id": "3fb3693e-0913-4374-bc88-5d522bf4be88",
   "metadata": {},
   "outputs": [],
   "source": [
    "coarsened_all(models, start_day=start_day, end_day=end_day, lon_max=lon_max, lon_min=lon_min, lat_max=lat_max, lat_min=lat_min)\n"
   ]
  },
  {
   "cell_type": "code",
   "execution_count": null,
   "id": "3c9aa850-b5aa-4721-9217-6845aaa26f18",
   "metadata": {},
   "outputs": [],
   "source": [
    "# norcal bounds\n",
    "\n",
    "lon_max = -121\n",
    "lon_min = -123\n",
    "lat_min = 38.5\n",
    "lat_max = 40.5\n",
    "coarsened_all(models, start_day=start_day, end_day=end_day, lon_max=lon_max, lon_min=lon_min, lat_max=lat_max, lat_min=lat_min)\n"
   ]
  }
 ],
 "metadata": {
  "kernelspec": {
   "display_name": "Python 3 (ipykernel)",
   "language": "python",
   "name": "python3"
  },
  "language_info": {
   "codemirror_mode": {
    "name": "ipython",
    "version": 3
   },
   "file_extension": ".py",
   "mimetype": "text/x-python",
   "name": "python",
   "nbconvert_exporter": "python",
   "pygments_lexer": "ipython3",
   "version": "3.9.21"
  }
 },
 "nbformat": 4,
 "nbformat_minor": 5
}
