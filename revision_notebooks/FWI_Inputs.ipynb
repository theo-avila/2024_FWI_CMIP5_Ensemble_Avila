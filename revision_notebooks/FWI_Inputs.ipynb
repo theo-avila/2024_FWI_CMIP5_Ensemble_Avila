{
 "cells": [
  {
   "cell_type": "markdown",
   "id": "e7589ade-d924-48d5-9055-32ab7f134cec",
   "metadata": {},
   "source": [
    "# FWI Inputs Spatially"
   ]
  },
  {
   "cell_type": "markdown",
   "id": "a84552e8-e2e6-4f10-b7e0-e708bd221572",
   "metadata": {},
   "source": [
    "## Imports"
   ]
  },
  {
   "cell_type": "code",
   "execution_count": 2,
   "id": "14e9db2b-72d1-4c2f-b030-97aa1d4038dd",
   "metadata": {},
   "outputs": [],
   "source": [
    "import xarray\n",
    "import pandas\n",
    "import numpy\n",
    "import glob as glob"
   ]
  },
  {
   "cell_type": "markdown",
   "id": "451da180-d0bf-41e4-8ac1-96aac462b394",
   "metadata": {},
   "source": [
    "## Functions"
   ]
  },
  {
   "cell_type": "code",
   "execution_count": null,
   "id": "1a6429cf-f05b-42d9-b3f4-5eec95601021",
   "metadata": {},
   "outputs": [],
   "source": []
  },
  {
   "cell_type": "markdown",
   "id": "5c83c74c-f218-4048-9c12-67bb3e461ac1",
   "metadata": {},
   "source": [
    "## Inputs"
   ]
  },
  {
   "cell_type": "code",
   "execution_count": 6,
   "id": "f52a57c6-dae0-480f-abac-c8dfec1b4380",
   "metadata": {},
   "outputs": [],
   "source": [
    "file_path = \"/data/keeling/a/ctavila2/b/gridMET_FWI_Inputs/\"\n",
    "var_arr = ['tmmx', 'rmin', 'vs', 'pr']"
   ]
  },
  {
   "cell_type": "code",
   "execution_count": 10,
   "id": "67805b92-624d-42f4-9964-bc59bc38ff3e",
   "metadata": {},
   "outputs": [
    {
     "data": {
      "text/plain": [
       "['/data/keeling/a/ctavila2/b/gridMET_FWI_Inputs/tmmx/tmmx_1979.nc',\n",
       " '/data/keeling/a/ctavila2/b/gridMET_FWI_Inputs/tmmx/tmmx_1980.nc',\n",
       " '/data/keeling/a/ctavila2/b/gridMET_FWI_Inputs/tmmx/tmmx_1981.nc',\n",
       " '/data/keeling/a/ctavila2/b/gridMET_FWI_Inputs/tmmx/tmmx_1982.nc',\n",
       " '/data/keeling/a/ctavila2/b/gridMET_FWI_Inputs/tmmx/tmmx_1983.nc',\n",
       " '/data/keeling/a/ctavila2/b/gridMET_FWI_Inputs/tmmx/tmmx_1984.nc',\n",
       " '/data/keeling/a/ctavila2/b/gridMET_FWI_Inputs/tmmx/tmmx_1985.nc',\n",
       " '/data/keeling/a/ctavila2/b/gridMET_FWI_Inputs/tmmx/tmmx_1986.nc',\n",
       " '/data/keeling/a/ctavila2/b/gridMET_FWI_Inputs/tmmx/tmmx_1987.nc',\n",
       " '/data/keeling/a/ctavila2/b/gridMET_FWI_Inputs/tmmx/tmmx_1988.nc',\n",
       " '/data/keeling/a/ctavila2/b/gridMET_FWI_Inputs/tmmx/tmmx_1989.nc',\n",
       " '/data/keeling/a/ctavila2/b/gridMET_FWI_Inputs/tmmx/tmmx_1990.nc',\n",
       " '/data/keeling/a/ctavila2/b/gridMET_FWI_Inputs/tmmx/tmmx_1991.nc',\n",
       " '/data/keeling/a/ctavila2/b/gridMET_FWI_Inputs/tmmx/tmmx_1992.nc',\n",
       " '/data/keeling/a/ctavila2/b/gridMET_FWI_Inputs/tmmx/tmmx_1993.nc',\n",
       " '/data/keeling/a/ctavila2/b/gridMET_FWI_Inputs/tmmx/tmmx_1994.nc',\n",
       " '/data/keeling/a/ctavila2/b/gridMET_FWI_Inputs/tmmx/tmmx_1995.nc',\n",
       " '/data/keeling/a/ctavila2/b/gridMET_FWI_Inputs/tmmx/tmmx_1996.nc',\n",
       " '/data/keeling/a/ctavila2/b/gridMET_FWI_Inputs/tmmx/tmmx_1997.nc',\n",
       " '/data/keeling/a/ctavila2/b/gridMET_FWI_Inputs/tmmx/tmmx_1998.nc',\n",
       " '/data/keeling/a/ctavila2/b/gridMET_FWI_Inputs/tmmx/tmmx_1999.nc',\n",
       " '/data/keeling/a/ctavila2/b/gridMET_FWI_Inputs/tmmx/tmmx_2000.nc',\n",
       " '/data/keeling/a/ctavila2/b/gridMET_FWI_Inputs/tmmx/tmmx_2001.nc',\n",
       " '/data/keeling/a/ctavila2/b/gridMET_FWI_Inputs/tmmx/tmmx_2002.nc',\n",
       " '/data/keeling/a/ctavila2/b/gridMET_FWI_Inputs/tmmx/tmmx_2003.nc',\n",
       " '/data/keeling/a/ctavila2/b/gridMET_FWI_Inputs/tmmx/tmmx_2004.nc',\n",
       " '/data/keeling/a/ctavila2/b/gridMET_FWI_Inputs/tmmx/tmmx_2005.nc',\n",
       " '/data/keeling/a/ctavila2/b/gridMET_FWI_Inputs/tmmx/tmmx_2006.nc',\n",
       " '/data/keeling/a/ctavila2/b/gridMET_FWI_Inputs/tmmx/tmmx_2007.nc',\n",
       " '/data/keeling/a/ctavila2/b/gridMET_FWI_Inputs/tmmx/tmmx_2008.nc',\n",
       " '/data/keeling/a/ctavila2/b/gridMET_FWI_Inputs/tmmx/tmmx_2009.nc',\n",
       " '/data/keeling/a/ctavila2/b/gridMET_FWI_Inputs/tmmx/tmmx_2010.nc',\n",
       " '/data/keeling/a/ctavila2/b/gridMET_FWI_Inputs/tmmx/tmmx_2011.nc',\n",
       " '/data/keeling/a/ctavila2/b/gridMET_FWI_Inputs/tmmx/tmmx_2012.nc',\n",
       " '/data/keeling/a/ctavila2/b/gridMET_FWI_Inputs/tmmx/tmmx_2013.nc',\n",
       " '/data/keeling/a/ctavila2/b/gridMET_FWI_Inputs/tmmx/tmmx_2014.nc',\n",
       " '/data/keeling/a/ctavila2/b/gridMET_FWI_Inputs/tmmx/tmmx_2015.nc',\n",
       " '/data/keeling/a/ctavila2/b/gridMET_FWI_Inputs/tmmx/tmmx_2016.nc',\n",
       " '/data/keeling/a/ctavila2/b/gridMET_FWI_Inputs/tmmx/tmmx_2017.nc',\n",
       " '/data/keeling/a/ctavila2/b/gridMET_FWI_Inputs/tmmx/tmmx_2018.nc',\n",
       " '/data/keeling/a/ctavila2/b/gridMET_FWI_Inputs/tmmx/tmmx_2019.nc',\n",
       " '/data/keeling/a/ctavila2/b/gridMET_FWI_Inputs/tmmx/tmmx_2020.nc',\n",
       " '/data/keeling/a/ctavila2/b/gridMET_FWI_Inputs/tmmx/tmmx_2021.nc',\n",
       " '/data/keeling/a/ctavila2/b/gridMET_FWI_Inputs/tmmx/tmmx_2022.nc']"
      ]
     },
     "execution_count": 10,
     "metadata": {},
     "output_type": "execute_result"
    }
   ],
   "source": [
    "for var_i in var_arr:\n",
    "    file_paths = sorted(glob.glob(f'{file_path+var_arr[0]}*'))\n",
    "    open_mfdataset(file_paths)"
   ]
  },
  {
   "cell_type": "code",
   "execution_count": 11,
   "id": "d5751250-a1ae-4188-8cf6-27715ed2de4e",
   "metadata": {},
   "outputs": [
    {
     "data": {
      "text/plain": [
       "['/data/keeling/a/ctavila2/b/gridMET_FWI_Inputs/tmmx/']"
      ]
     },
     "execution_count": 11,
     "metadata": {},
     "output_type": "execute_result"
    }
   ],
   "source": [
    "glob.glob(file_path+var_arr[0])"
   ]
  },
  {
   "cell_type": "code",
   "execution_count": null,
   "id": "a2bf4e08-1245-4913-aad7-d63e8381ccd0",
   "metadata": {},
   "outputs": [],
   "source": []
  }
 ],
 "metadata": {
  "kernelspec": {
   "display_name": "Python 3 (ipykernel)",
   "language": "python",
   "name": "python3"
  },
  "language_info": {
   "codemirror_mode": {
    "name": "ipython",
    "version": 3
   },
   "file_extension": ".py",
   "mimetype": "text/x-python",
   "name": "python",
   "nbconvert_exporter": "python",
   "pygments_lexer": "ipython3",
   "version": "3.9.21"
  }
 },
 "nbformat": 4,
 "nbformat_minor": 5
}
