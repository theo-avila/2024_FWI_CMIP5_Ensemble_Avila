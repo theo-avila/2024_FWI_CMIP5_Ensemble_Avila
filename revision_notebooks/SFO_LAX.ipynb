{
 "cells": [
  {
   "cell_type": "markdown",
   "id": "ca22a440-410b-4d72-8b30-b842a7c0e797",
   "metadata": {},
   "source": [
    "# FWI, Using Station Based data"
   ]
  },
  {
   "cell_type": "markdown",
   "id": "46eecdef-c6e9-433c-973a-5fa797d736c7",
   "metadata": {},
   "source": [
    "## Imports"
   ]
  },
  {
   "cell_type": "code",
   "execution_count": 1,
   "id": "75d28e60-b0b6-4d4a-8ee8-3867e2353b8d",
   "metadata": {},
   "outputs": [],
   "source": [
    "import xarray\n",
    "import pandas "
   ]
  },
  {
   "cell_type": "markdown",
   "id": "1a53c3c2-fd19-4bfe-8ed2-e3cf1a9e794a",
   "metadata": {},
   "source": [
    "## Functions"
   ]
  },
  {
   "cell_type": "code",
   "execution_count": null,
   "id": "34c123b1-226d-48c5-b0a7-faddf720a2c0",
   "metadata": {},
   "outputs": [],
   "source": []
  },
  {
   "cell_type": "markdown",
   "id": "7523009d-c174-4ffc-a35e-0007de4d1e05",
   "metadata": {},
   "source": [
    "## Inputs"
   ]
  },
  {
   "cell_type": "code",
   "execution_count": null,
   "id": "0e941d37-779d-48cf-84d6-4ce965012eb9",
   "metadata": {},
   "outputs": [],
   "source": []
  }
 ],
 "metadata": {
  "kernelspec": {
   "display_name": "Python 3 (ipykernel)",
   "language": "python",
   "name": "python3"
  },
  "language_info": {
   "codemirror_mode": {
    "name": "ipython",
    "version": 3
   },
   "file_extension": ".py",
   "mimetype": "text/x-python",
   "name": "python",
   "nbconvert_exporter": "python",
   "pygments_lexer": "ipython3",
   "version": "3.9.21"
  }
 },
 "nbformat": 4,
 "nbformat_minor": 5
}
